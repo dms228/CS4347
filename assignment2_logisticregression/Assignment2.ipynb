{
 "cells": [
  {
   "cell_type": "code",
   "execution_count": 1,
   "metadata": {},
   "outputs": [],
   "source": [
    "import pandas as pd\n",
    "import urllib\n",
    "from sklearn.model_selection import train_test_split\n",
    "import os\n",
    "import numpy as np\n",
    "from operator import itemgetter\n",
    "import pickle\n",
    "import seaborn as sns\n",
    "import matplotlib.pyplot as plt\n",
    "from sklearn.linear_model import LogisticRegression\n",
    "# requirements : \n",
    "#     recommended platform : ubuntu\n",
    "#     python == 3.7\n",
    "#     pip install pandas\n",
    "#     pip install numpy\n",
    "#     pip install sklearn\n",
    "#     pip install seaborn\n",
    "#     pip install matplotlib\n",
    "%matplotlib inline"
   ]
  },
  {
   "cell_type": "markdown",
   "metadata": {},
   "source": [
    "# DATASET\n",
    "Data Source\n",
    "    \n",
    "    https://archive.ics.uci.edu/ml/datasets/Skin+Segmentation\n",
    "    \n",
    "    Source:\n",
    "    Rajen Bhatt, Abhinav Dhall, rajen.bhatt '@' gmail.com, IIT Delhi.\n",
    "    \n",
    "    Data Set Information:\n",
    "\n",
    "        The skin dataset is collected by randomly sampling B,G,R values from face images of various age groups (young, middle, and old), race groups (white, black, and asian), and genders obtained from FERET database and PAL database. Total learning sample size is 245057; out of which 50859 is the skin samples and 194198 is non-skin samples.\n",
    "        \n",
    "    Attribute Information:\n",
    "\n",
    "        This dataset is of the dimension 245057 * 4 where first three columns are B,G,R (x1,x2, and x3 features) values and fourth column is of the class labels (decision variable y).\n",
    "        \n",
    "    Relevant Papers:\n",
    "\n",
    "\n",
    "1. Rajen B. Bhatt, Gaurav Sharma, Abhinav Dhall, Santanu Chaudhury, â€œEfficient skin region segmentation using low complexity fuzzy decision tree modelâ€, IEEE-INDICON 2009, Dec 16-18, Ahmedabad, India, pp. 1-4.\n",
    "        2. Abhinav Dhall, Gaurav Sharma, Rajen Bhatt, Ghulam Mohiuddin Khan, â€œAdaptive Digital Makeupâ€, in Proc. of International Symposium on Visual Computing (ISVC) 2009, Nov. 30 â€“ Dec. 02, Las Vegas, Nevada, USA, Lecture Notes in Computer Science, Vol. 5876, pp. 728-736.\n",
    "\n",
    "\n",
    "\n",
    "        Citation Request:\n",
    "\n",
    "        Rajen Bhatt, Abhinav Dhall, 'Skin Segmentation Dataset', UCI Machine Learning Repository\n",
    "\n",
    "\n",
    "    "
   ]
  },
  {
   "cell_type": "markdown",
   "metadata": {},
   "source": [
    "### DOWNLOAD DATASET\n",
    "    Direct Link : https://archive.ics.uci.edu/ml/machine-learning-databases/00229/Skin_NonSkin.txt"
   ]
  },
  {
   "cell_type": "markdown",
   "metadata": {},
   "source": [
    "#### DOWNLOAD USING PYTHON"
   ]
  },
  {
   "cell_type": "code",
   "execution_count": 2,
   "metadata": {},
   "outputs": [],
   "source": [
    "if not os.path.exists('./Skin_NonSkin.txt'):\n",
    "    url = 'https://archive.ics.uci.edu/ml/machine-learning-databases/00229/Skin_NonSkin.txt'\n",
    "    urllib.request.urlretrieve(url,'./Skin_NonSkin.txt')"
   ]
  },
  {
   "cell_type": "markdown",
   "metadata": {},
   "source": [
    "#### Read using pandas"
   ]
  },
  {
   "cell_type": "code",
   "execution_count": 3,
   "metadata": {},
   "outputs": [
    {
     "data": {
      "text/html": [
       "<div>\n",
       "<style scoped>\n",
       "    .dataframe tbody tr th:only-of-type {\n",
       "        vertical-align: middle;\n",
       "    }\n",
       "\n",
       "    .dataframe tbody tr th {\n",
       "        vertical-align: top;\n",
       "    }\n",
       "\n",
       "    .dataframe thead th {\n",
       "        text-align: right;\n",
       "    }\n",
       "</style>\n",
       "<table border=\"1\" class=\"dataframe\">\n",
       "  <thead>\n",
       "    <tr style=\"text-align: right;\">\n",
       "      <th></th>\n",
       "      <th>B</th>\n",
       "      <th>G</th>\n",
       "      <th>R</th>\n",
       "      <th>skin</th>\n",
       "    </tr>\n",
       "  </thead>\n",
       "  <tbody>\n",
       "    <tr>\n",
       "      <th>0</th>\n",
       "      <td>74</td>\n",
       "      <td>85</td>\n",
       "      <td>123</td>\n",
       "      <td>1</td>\n",
       "    </tr>\n",
       "    <tr>\n",
       "      <th>1</th>\n",
       "      <td>73</td>\n",
       "      <td>84</td>\n",
       "      <td>122</td>\n",
       "      <td>1</td>\n",
       "    </tr>\n",
       "    <tr>\n",
       "      <th>2</th>\n",
       "      <td>72</td>\n",
       "      <td>83</td>\n",
       "      <td>121</td>\n",
       "      <td>1</td>\n",
       "    </tr>\n",
       "    <tr>\n",
       "      <th>3</th>\n",
       "      <td>70</td>\n",
       "      <td>81</td>\n",
       "      <td>119</td>\n",
       "      <td>1</td>\n",
       "    </tr>\n",
       "    <tr>\n",
       "      <th>4</th>\n",
       "      <td>70</td>\n",
       "      <td>81</td>\n",
       "      <td>119</td>\n",
       "      <td>1</td>\n",
       "    </tr>\n",
       "  </tbody>\n",
       "</table>\n",
       "</div>"
      ],
      "text/plain": [
       "    B   G    R  skin\n",
       "0  74  85  123     1\n",
       "1  73  84  122     1\n",
       "2  72  83  121     1\n",
       "3  70  81  119     1\n",
       "4  70  81  119     1"
      ]
     },
     "execution_count": 3,
     "metadata": {},
     "output_type": "execute_result"
    }
   ],
   "source": [
    "df = pd.read_csv('Skin_NonSkin.txt', sep='\\t',names =['B','G','R','skin'])\n",
    "df.head()"
   ]
  },
  {
   "cell_type": "markdown",
   "metadata": {},
   "source": [
    "#### Check Missing values"
   ]
  },
  {
   "cell_type": "code",
   "execution_count": 4,
   "metadata": {},
   "outputs": [
    {
     "data": {
      "text/plain": [
       "B       0\n",
       "G       0\n",
       "R       0\n",
       "skin    0\n",
       "dtype: int64"
      ]
     },
     "execution_count": 4,
     "metadata": {},
     "output_type": "execute_result"
    }
   ],
   "source": [
    "# NO MISSING VALUES\n",
    "df.isna().sum()"
   ]
  },
  {
   "cell_type": "markdown",
   "metadata": {},
   "source": [
    "### Standardize dataset"
   ]
  },
  {
   "cell_type": "code",
   "execution_count": 5,
   "metadata": {},
   "outputs": [],
   "source": [
    "feature = df[df.columns[~df.columns.isin(['skin'])]] #Except Label\n",
    "label = (df[['skin']] == 1)*1 #Converting to 0 and 1 (this col has values 1 and 2)\n",
    "feature = feature / 255. #Pixel values range from 0-255 converting between 0-1"
   ]
  },
  {
   "cell_type": "code",
   "execution_count": 6,
   "metadata": {},
   "outputs": [
    {
     "data": {
      "text/html": [
       "<div>\n",
       "<style scoped>\n",
       "    .dataframe tbody tr th:only-of-type {\n",
       "        vertical-align: middle;\n",
       "    }\n",
       "\n",
       "    .dataframe tbody tr th {\n",
       "        vertical-align: top;\n",
       "    }\n",
       "\n",
       "    .dataframe thead th {\n",
       "        text-align: right;\n",
       "    }\n",
       "</style>\n",
       "<table border=\"1\" class=\"dataframe\">\n",
       "  <thead>\n",
       "    <tr style=\"text-align: right;\">\n",
       "      <th></th>\n",
       "      <th>B</th>\n",
       "      <th>G</th>\n",
       "      <th>R</th>\n",
       "    </tr>\n",
       "  </thead>\n",
       "  <tbody>\n",
       "    <tr>\n",
       "      <th>0</th>\n",
       "      <td>0.290196</td>\n",
       "      <td>0.333333</td>\n",
       "      <td>0.482353</td>\n",
       "    </tr>\n",
       "    <tr>\n",
       "      <th>1</th>\n",
       "      <td>0.286275</td>\n",
       "      <td>0.329412</td>\n",
       "      <td>0.478431</td>\n",
       "    </tr>\n",
       "    <tr>\n",
       "      <th>2</th>\n",
       "      <td>0.282353</td>\n",
       "      <td>0.325490</td>\n",
       "      <td>0.474510</td>\n",
       "    </tr>\n",
       "    <tr>\n",
       "      <th>3</th>\n",
       "      <td>0.274510</td>\n",
       "      <td>0.317647</td>\n",
       "      <td>0.466667</td>\n",
       "    </tr>\n",
       "    <tr>\n",
       "      <th>4</th>\n",
       "      <td>0.274510</td>\n",
       "      <td>0.317647</td>\n",
       "      <td>0.466667</td>\n",
       "    </tr>\n",
       "  </tbody>\n",
       "</table>\n",
       "</div>"
      ],
      "text/plain": [
       "          B         G         R\n",
       "0  0.290196  0.333333  0.482353\n",
       "1  0.286275  0.329412  0.478431\n",
       "2  0.282353  0.325490  0.474510\n",
       "3  0.274510  0.317647  0.466667\n",
       "4  0.274510  0.317647  0.466667"
      ]
     },
     "execution_count": 6,
     "metadata": {},
     "output_type": "execute_result"
    }
   ],
   "source": [
    "feature.head()"
   ]
  },
  {
   "cell_type": "code",
   "execution_count": 7,
   "metadata": {},
   "outputs": [
    {
     "data": {
      "text/html": [
       "<div>\n",
       "<style scoped>\n",
       "    .dataframe tbody tr th:only-of-type {\n",
       "        vertical-align: middle;\n",
       "    }\n",
       "\n",
       "    .dataframe tbody tr th {\n",
       "        vertical-align: top;\n",
       "    }\n",
       "\n",
       "    .dataframe thead th {\n",
       "        text-align: right;\n",
       "    }\n",
       "</style>\n",
       "<table border=\"1\" class=\"dataframe\">\n",
       "  <thead>\n",
       "    <tr style=\"text-align: right;\">\n",
       "      <th></th>\n",
       "      <th>skin</th>\n",
       "    </tr>\n",
       "  </thead>\n",
       "  <tbody>\n",
       "    <tr>\n",
       "      <th>0</th>\n",
       "      <td>1</td>\n",
       "    </tr>\n",
       "    <tr>\n",
       "      <th>1</th>\n",
       "      <td>1</td>\n",
       "    </tr>\n",
       "    <tr>\n",
       "      <th>2</th>\n",
       "      <td>1</td>\n",
       "    </tr>\n",
       "    <tr>\n",
       "      <th>3</th>\n",
       "      <td>1</td>\n",
       "    </tr>\n",
       "    <tr>\n",
       "      <th>4</th>\n",
       "      <td>1</td>\n",
       "    </tr>\n",
       "  </tbody>\n",
       "</table>\n",
       "</div>"
      ],
      "text/plain": [
       "   skin\n",
       "0     1\n",
       "1     1\n",
       "2     1\n",
       "3     1\n",
       "4     1"
      ]
     },
     "execution_count": 7,
     "metadata": {},
     "output_type": "execute_result"
    }
   ],
   "source": [
    "label.head()"
   ]
  },
  {
   "cell_type": "markdown",
   "metadata": {},
   "source": [
    "### Explore your data\n",
    "    Please try to understand the nature of data"
   ]
  },
  {
   "cell_type": "code",
   "execution_count": 8,
   "metadata": {},
   "outputs": [
    {
     "data": {
      "text/html": [
       "<div>\n",
       "<style scoped>\n",
       "    .dataframe tbody tr th:only-of-type {\n",
       "        vertical-align: middle;\n",
       "    }\n",
       "\n",
       "    .dataframe tbody tr th {\n",
       "        vertical-align: top;\n",
       "    }\n",
       "\n",
       "    .dataframe thead th {\n",
       "        text-align: right;\n",
       "    }\n",
       "</style>\n",
       "<table border=\"1\" class=\"dataframe\">\n",
       "  <thead>\n",
       "    <tr style=\"text-align: right;\">\n",
       "      <th></th>\n",
       "      <th>B</th>\n",
       "      <th>G</th>\n",
       "      <th>R</th>\n",
       "      <th>skin</th>\n",
       "    </tr>\n",
       "  </thead>\n",
       "  <tbody>\n",
       "    <tr>\n",
       "      <th>0</th>\n",
       "      <td>0.290196</td>\n",
       "      <td>0.333333</td>\n",
       "      <td>0.482353</td>\n",
       "      <td>1</td>\n",
       "    </tr>\n",
       "    <tr>\n",
       "      <th>1</th>\n",
       "      <td>0.286275</td>\n",
       "      <td>0.329412</td>\n",
       "      <td>0.478431</td>\n",
       "      <td>1</td>\n",
       "    </tr>\n",
       "    <tr>\n",
       "      <th>2</th>\n",
       "      <td>0.282353</td>\n",
       "      <td>0.325490</td>\n",
       "      <td>0.474510</td>\n",
       "      <td>1</td>\n",
       "    </tr>\n",
       "    <tr>\n",
       "      <th>3</th>\n",
       "      <td>0.274510</td>\n",
       "      <td>0.317647</td>\n",
       "      <td>0.466667</td>\n",
       "      <td>1</td>\n",
       "    </tr>\n",
       "    <tr>\n",
       "      <th>4</th>\n",
       "      <td>0.274510</td>\n",
       "      <td>0.317647</td>\n",
       "      <td>0.466667</td>\n",
       "      <td>1</td>\n",
       "    </tr>\n",
       "    <tr>\n",
       "      <th>5</th>\n",
       "      <td>0.270588</td>\n",
       "      <td>0.313725</td>\n",
       "      <td>0.462745</td>\n",
       "      <td>1</td>\n",
       "    </tr>\n",
       "    <tr>\n",
       "      <th>6</th>\n",
       "      <td>0.274510</td>\n",
       "      <td>0.317647</td>\n",
       "      <td>0.466667</td>\n",
       "      <td>1</td>\n",
       "    </tr>\n",
       "    <tr>\n",
       "      <th>7</th>\n",
       "      <td>0.274510</td>\n",
       "      <td>0.317647</td>\n",
       "      <td>0.466667</td>\n",
       "      <td>1</td>\n",
       "    </tr>\n",
       "    <tr>\n",
       "      <th>8</th>\n",
       "      <td>0.298039</td>\n",
       "      <td>0.341176</td>\n",
       "      <td>0.490196</td>\n",
       "      <td>1</td>\n",
       "    </tr>\n",
       "    <tr>\n",
       "      <th>9</th>\n",
       "      <td>0.298039</td>\n",
       "      <td>0.341176</td>\n",
       "      <td>0.490196</td>\n",
       "      <td>1</td>\n",
       "    </tr>\n",
       "    <tr>\n",
       "      <th>10</th>\n",
       "      <td>0.301961</td>\n",
       "      <td>0.345098</td>\n",
       "      <td>0.494118</td>\n",
       "      <td>1</td>\n",
       "    </tr>\n",
       "    <tr>\n",
       "      <th>11</th>\n",
       "      <td>0.301961</td>\n",
       "      <td>0.345098</td>\n",
       "      <td>0.494118</td>\n",
       "      <td>1</td>\n",
       "    </tr>\n",
       "    <tr>\n",
       "      <th>12</th>\n",
       "      <td>0.301961</td>\n",
       "      <td>0.345098</td>\n",
       "      <td>0.494118</td>\n",
       "      <td>1</td>\n",
       "    </tr>\n",
       "    <tr>\n",
       "      <th>13</th>\n",
       "      <td>0.305882</td>\n",
       "      <td>0.349020</td>\n",
       "      <td>0.498039</td>\n",
       "      <td>1</td>\n",
       "    </tr>\n",
       "    <tr>\n",
       "      <th>14</th>\n",
       "      <td>0.301961</td>\n",
       "      <td>0.333333</td>\n",
       "      <td>0.490196</td>\n",
       "      <td>1</td>\n",
       "    </tr>\n",
       "    <tr>\n",
       "      <th>15</th>\n",
       "      <td>0.305882</td>\n",
       "      <td>0.337255</td>\n",
       "      <td>0.494118</td>\n",
       "      <td>1</td>\n",
       "    </tr>\n",
       "    <tr>\n",
       "      <th>16</th>\n",
       "      <td>0.305882</td>\n",
       "      <td>0.337255</td>\n",
       "      <td>0.494118</td>\n",
       "      <td>1</td>\n",
       "    </tr>\n",
       "    <tr>\n",
       "      <th>17</th>\n",
       "      <td>0.301961</td>\n",
       "      <td>0.333333</td>\n",
       "      <td>0.490196</td>\n",
       "      <td>1</td>\n",
       "    </tr>\n",
       "    <tr>\n",
       "      <th>18</th>\n",
       "      <td>0.298039</td>\n",
       "      <td>0.329412</td>\n",
       "      <td>0.486275</td>\n",
       "      <td>1</td>\n",
       "    </tr>\n",
       "    <tr>\n",
       "      <th>19</th>\n",
       "      <td>0.301961</td>\n",
       "      <td>0.333333</td>\n",
       "      <td>0.490196</td>\n",
       "      <td>1</td>\n",
       "    </tr>\n",
       "    <tr>\n",
       "      <th>20</th>\n",
       "      <td>0.313725</td>\n",
       "      <td>0.345098</td>\n",
       "      <td>0.501961</td>\n",
       "      <td>1</td>\n",
       "    </tr>\n",
       "    <tr>\n",
       "      <th>21</th>\n",
       "      <td>0.325490</td>\n",
       "      <td>0.356863</td>\n",
       "      <td>0.513725</td>\n",
       "      <td>1</td>\n",
       "    </tr>\n",
       "    <tr>\n",
       "      <th>22</th>\n",
       "      <td>0.325490</td>\n",
       "      <td>0.356863</td>\n",
       "      <td>0.513725</td>\n",
       "      <td>1</td>\n",
       "    </tr>\n",
       "    <tr>\n",
       "      <th>23</th>\n",
       "      <td>0.329412</td>\n",
       "      <td>0.360784</td>\n",
       "      <td>0.517647</td>\n",
       "      <td>1</td>\n",
       "    </tr>\n",
       "    <tr>\n",
       "      <th>24</th>\n",
       "      <td>0.329412</td>\n",
       "      <td>0.360784</td>\n",
       "      <td>0.517647</td>\n",
       "      <td>1</td>\n",
       "    </tr>\n",
       "    <tr>\n",
       "      <th>25</th>\n",
       "      <td>0.325490</td>\n",
       "      <td>0.356863</td>\n",
       "      <td>0.513725</td>\n",
       "      <td>1</td>\n",
       "    </tr>\n",
       "    <tr>\n",
       "      <th>26</th>\n",
       "      <td>0.313725</td>\n",
       "      <td>0.345098</td>\n",
       "      <td>0.501961</td>\n",
       "      <td>1</td>\n",
       "    </tr>\n",
       "    <tr>\n",
       "      <th>27</th>\n",
       "      <td>0.305882</td>\n",
       "      <td>0.337255</td>\n",
       "      <td>0.494118</td>\n",
       "      <td>1</td>\n",
       "    </tr>\n",
       "    <tr>\n",
       "      <th>28</th>\n",
       "      <td>0.305882</td>\n",
       "      <td>0.337255</td>\n",
       "      <td>0.494118</td>\n",
       "      <td>1</td>\n",
       "    </tr>\n",
       "    <tr>\n",
       "      <th>29</th>\n",
       "      <td>0.309804</td>\n",
       "      <td>0.341176</td>\n",
       "      <td>0.498039</td>\n",
       "      <td>1</td>\n",
       "    </tr>\n",
       "    <tr>\n",
       "      <th>...</th>\n",
       "      <td>...</td>\n",
       "      <td>...</td>\n",
       "      <td>...</td>\n",
       "      <td>...</td>\n",
       "    </tr>\n",
       "    <tr>\n",
       "      <th>245027</th>\n",
       "      <td>0.635294</td>\n",
       "      <td>0.631373</td>\n",
       "      <td>0.431373</td>\n",
       "      <td>0</td>\n",
       "    </tr>\n",
       "    <tr>\n",
       "      <th>245028</th>\n",
       "      <td>0.635294</td>\n",
       "      <td>0.631373</td>\n",
       "      <td>0.431373</td>\n",
       "      <td>0</td>\n",
       "    </tr>\n",
       "    <tr>\n",
       "      <th>245029</th>\n",
       "      <td>0.635294</td>\n",
       "      <td>0.631373</td>\n",
       "      <td>0.431373</td>\n",
       "      <td>0</td>\n",
       "    </tr>\n",
       "    <tr>\n",
       "      <th>245030</th>\n",
       "      <td>0.635294</td>\n",
       "      <td>0.631373</td>\n",
       "      <td>0.431373</td>\n",
       "      <td>0</td>\n",
       "    </tr>\n",
       "    <tr>\n",
       "      <th>245031</th>\n",
       "      <td>0.635294</td>\n",
       "      <td>0.631373</td>\n",
       "      <td>0.431373</td>\n",
       "      <td>0</td>\n",
       "    </tr>\n",
       "    <tr>\n",
       "      <th>245032</th>\n",
       "      <td>0.635294</td>\n",
       "      <td>0.631373</td>\n",
       "      <td>0.431373</td>\n",
       "      <td>0</td>\n",
       "    </tr>\n",
       "    <tr>\n",
       "      <th>245033</th>\n",
       "      <td>0.647059</td>\n",
       "      <td>0.643137</td>\n",
       "      <td>0.443137</td>\n",
       "      <td>0</td>\n",
       "    </tr>\n",
       "    <tr>\n",
       "      <th>245034</th>\n",
       "      <td>0.647059</td>\n",
       "      <td>0.643137</td>\n",
       "      <td>0.443137</td>\n",
       "      <td>0</td>\n",
       "    </tr>\n",
       "    <tr>\n",
       "      <th>245035</th>\n",
       "      <td>0.647059</td>\n",
       "      <td>0.643137</td>\n",
       "      <td>0.443137</td>\n",
       "      <td>0</td>\n",
       "    </tr>\n",
       "    <tr>\n",
       "      <th>245036</th>\n",
       "      <td>0.647059</td>\n",
       "      <td>0.643137</td>\n",
       "      <td>0.443137</td>\n",
       "      <td>0</td>\n",
       "    </tr>\n",
       "    <tr>\n",
       "      <th>245037</th>\n",
       "      <td>0.647059</td>\n",
       "      <td>0.643137</td>\n",
       "      <td>0.443137</td>\n",
       "      <td>0</td>\n",
       "    </tr>\n",
       "    <tr>\n",
       "      <th>245038</th>\n",
       "      <td>0.643137</td>\n",
       "      <td>0.639216</td>\n",
       "      <td>0.439216</td>\n",
       "      <td>0</td>\n",
       "    </tr>\n",
       "    <tr>\n",
       "      <th>245039</th>\n",
       "      <td>0.643137</td>\n",
       "      <td>0.639216</td>\n",
       "      <td>0.439216</td>\n",
       "      <td>0</td>\n",
       "    </tr>\n",
       "    <tr>\n",
       "      <th>245040</th>\n",
       "      <td>0.643137</td>\n",
       "      <td>0.639216</td>\n",
       "      <td>0.439216</td>\n",
       "      <td>0</td>\n",
       "    </tr>\n",
       "    <tr>\n",
       "      <th>245041</th>\n",
       "      <td>0.639216</td>\n",
       "      <td>0.635294</td>\n",
       "      <td>0.439216</td>\n",
       "      <td>0</td>\n",
       "    </tr>\n",
       "    <tr>\n",
       "      <th>245042</th>\n",
       "      <td>0.639216</td>\n",
       "      <td>0.635294</td>\n",
       "      <td>0.439216</td>\n",
       "      <td>0</td>\n",
       "    </tr>\n",
       "    <tr>\n",
       "      <th>245043</th>\n",
       "      <td>0.639216</td>\n",
       "      <td>0.635294</td>\n",
       "      <td>0.439216</td>\n",
       "      <td>0</td>\n",
       "    </tr>\n",
       "    <tr>\n",
       "      <th>245044</th>\n",
       "      <td>0.639216</td>\n",
       "      <td>0.635294</td>\n",
       "      <td>0.439216</td>\n",
       "      <td>0</td>\n",
       "    </tr>\n",
       "    <tr>\n",
       "      <th>245045</th>\n",
       "      <td>0.639216</td>\n",
       "      <td>0.635294</td>\n",
       "      <td>0.439216</td>\n",
       "      <td>0</td>\n",
       "    </tr>\n",
       "    <tr>\n",
       "      <th>245046</th>\n",
       "      <td>0.639216</td>\n",
       "      <td>0.635294</td>\n",
       "      <td>0.439216</td>\n",
       "      <td>0</td>\n",
       "    </tr>\n",
       "    <tr>\n",
       "      <th>245047</th>\n",
       "      <td>0.639216</td>\n",
       "      <td>0.635294</td>\n",
       "      <td>0.439216</td>\n",
       "      <td>0</td>\n",
       "    </tr>\n",
       "    <tr>\n",
       "      <th>245048</th>\n",
       "      <td>0.639216</td>\n",
       "      <td>0.635294</td>\n",
       "      <td>0.439216</td>\n",
       "      <td>0</td>\n",
       "    </tr>\n",
       "    <tr>\n",
       "      <th>245049</th>\n",
       "      <td>0.639216</td>\n",
       "      <td>0.635294</td>\n",
       "      <td>0.439216</td>\n",
       "      <td>0</td>\n",
       "    </tr>\n",
       "    <tr>\n",
       "      <th>245050</th>\n",
       "      <td>0.639216</td>\n",
       "      <td>0.635294</td>\n",
       "      <td>0.439216</td>\n",
       "      <td>0</td>\n",
       "    </tr>\n",
       "    <tr>\n",
       "      <th>245051</th>\n",
       "      <td>0.639216</td>\n",
       "      <td>0.635294</td>\n",
       "      <td>0.439216</td>\n",
       "      <td>0</td>\n",
       "    </tr>\n",
       "    <tr>\n",
       "      <th>245052</th>\n",
       "      <td>0.639216</td>\n",
       "      <td>0.635294</td>\n",
       "      <td>0.439216</td>\n",
       "      <td>0</td>\n",
       "    </tr>\n",
       "    <tr>\n",
       "      <th>245053</th>\n",
       "      <td>0.639216</td>\n",
       "      <td>0.635294</td>\n",
       "      <td>0.439216</td>\n",
       "      <td>0</td>\n",
       "    </tr>\n",
       "    <tr>\n",
       "      <th>245054</th>\n",
       "      <td>0.639216</td>\n",
       "      <td>0.635294</td>\n",
       "      <td>0.439216</td>\n",
       "      <td>0</td>\n",
       "    </tr>\n",
       "    <tr>\n",
       "      <th>245055</th>\n",
       "      <td>0.639216</td>\n",
       "      <td>0.635294</td>\n",
       "      <td>0.439216</td>\n",
       "      <td>0</td>\n",
       "    </tr>\n",
       "    <tr>\n",
       "      <th>245056</th>\n",
       "      <td>1.000000</td>\n",
       "      <td>1.000000</td>\n",
       "      <td>1.000000</td>\n",
       "      <td>0</td>\n",
       "    </tr>\n",
       "  </tbody>\n",
       "</table>\n",
       "<p>245057 rows × 4 columns</p>\n",
       "</div>"
      ],
      "text/plain": [
       "               B         G         R  skin\n",
       "0       0.290196  0.333333  0.482353     1\n",
       "1       0.286275  0.329412  0.478431     1\n",
       "2       0.282353  0.325490  0.474510     1\n",
       "3       0.274510  0.317647  0.466667     1\n",
       "4       0.274510  0.317647  0.466667     1\n",
       "5       0.270588  0.313725  0.462745     1\n",
       "6       0.274510  0.317647  0.466667     1\n",
       "7       0.274510  0.317647  0.466667     1\n",
       "8       0.298039  0.341176  0.490196     1\n",
       "9       0.298039  0.341176  0.490196     1\n",
       "10      0.301961  0.345098  0.494118     1\n",
       "11      0.301961  0.345098  0.494118     1\n",
       "12      0.301961  0.345098  0.494118     1\n",
       "13      0.305882  0.349020  0.498039     1\n",
       "14      0.301961  0.333333  0.490196     1\n",
       "15      0.305882  0.337255  0.494118     1\n",
       "16      0.305882  0.337255  0.494118     1\n",
       "17      0.301961  0.333333  0.490196     1\n",
       "18      0.298039  0.329412  0.486275     1\n",
       "19      0.301961  0.333333  0.490196     1\n",
       "20      0.313725  0.345098  0.501961     1\n",
       "21      0.325490  0.356863  0.513725     1\n",
       "22      0.325490  0.356863  0.513725     1\n",
       "23      0.329412  0.360784  0.517647     1\n",
       "24      0.329412  0.360784  0.517647     1\n",
       "25      0.325490  0.356863  0.513725     1\n",
       "26      0.313725  0.345098  0.501961     1\n",
       "27      0.305882  0.337255  0.494118     1\n",
       "28      0.305882  0.337255  0.494118     1\n",
       "29      0.309804  0.341176  0.498039     1\n",
       "...          ...       ...       ...   ...\n",
       "245027  0.635294  0.631373  0.431373     0\n",
       "245028  0.635294  0.631373  0.431373     0\n",
       "245029  0.635294  0.631373  0.431373     0\n",
       "245030  0.635294  0.631373  0.431373     0\n",
       "245031  0.635294  0.631373  0.431373     0\n",
       "245032  0.635294  0.631373  0.431373     0\n",
       "245033  0.647059  0.643137  0.443137     0\n",
       "245034  0.647059  0.643137  0.443137     0\n",
       "245035  0.647059  0.643137  0.443137     0\n",
       "245036  0.647059  0.643137  0.443137     0\n",
       "245037  0.647059  0.643137  0.443137     0\n",
       "245038  0.643137  0.639216  0.439216     0\n",
       "245039  0.643137  0.639216  0.439216     0\n",
       "245040  0.643137  0.639216  0.439216     0\n",
       "245041  0.639216  0.635294  0.439216     0\n",
       "245042  0.639216  0.635294  0.439216     0\n",
       "245043  0.639216  0.635294  0.439216     0\n",
       "245044  0.639216  0.635294  0.439216     0\n",
       "245045  0.639216  0.635294  0.439216     0\n",
       "245046  0.639216  0.635294  0.439216     0\n",
       "245047  0.639216  0.635294  0.439216     0\n",
       "245048  0.639216  0.635294  0.439216     0\n",
       "245049  0.639216  0.635294  0.439216     0\n",
       "245050  0.639216  0.635294  0.439216     0\n",
       "245051  0.639216  0.635294  0.439216     0\n",
       "245052  0.639216  0.635294  0.439216     0\n",
       "245053  0.639216  0.635294  0.439216     0\n",
       "245054  0.639216  0.635294  0.439216     0\n",
       "245055  0.639216  0.635294  0.439216     0\n",
       "245056  1.000000  1.000000  1.000000     0\n",
       "\n",
       "[245057 rows x 4 columns]"
      ]
     },
     "execution_count": 8,
     "metadata": {},
     "output_type": "execute_result"
    }
   ],
   "source": [
    "alldf = pd.concat([feature,label], sort=True, axis=1)\n",
    "alldf"
   ]
  },
  {
   "cell_type": "code",
   "execution_count": 9,
   "metadata": {},
   "outputs": [],
   "source": [
    "sample = alldf.sample(1000)"
   ]
  },
  {
   "cell_type": "code",
   "execution_count": 10,
   "metadata": {},
   "outputs": [],
   "source": [
    "onlybgr = sample[sample.columns[~sample.columns.isin(['skin'])]]"
   ]
  },
  {
   "cell_type": "code",
   "execution_count": 11,
   "metadata": {},
   "outputs": [
    {
     "data": {
      "text/plain": [
       "<seaborn.axisgrid.PairGrid at 0x14438e97d68>"
      ]
     },
     "execution_count": 11,
     "metadata": {},
     "output_type": "execute_result"
    },
    {
     "data": {
      "image/png": "[encoded data removed]",
      "text/plain": [
       "<Figure size 540x540 with 12 Axes>"
      ]
     },
     "metadata": {
      "needs_background": "light"
     },
     "output_type": "display_data"
    }
   ],
   "source": [
    "sns.pairplot(onlybgr)"
   ]
  },
  {
   "cell_type": "code",
   "execution_count": 12,
   "metadata": {},
   "outputs": [
    {
     "data": {
      "text/plain": [
       "<seaborn.axisgrid.PairGrid at 0x1443939d9e8>"
      ]
     },
     "execution_count": 12,
     "metadata": {},
     "output_type": "execute_result"
    },
    {
     "data": {
      "image/png": "[encoded data removed]",
      "text/plain": [
       "<Figure size 615.625x540 with 12 Axes>"
      ]
     },
     "metadata": {
      "needs_background": "light"
     },
     "output_type": "display_data"
    }
   ],
   "source": [
    "sample_ = sample.copy()\n",
    "sample_['skin'] = sample.skin.apply(lambda x:{1:'skin',0:'not skin'}.get(x))\n",
    "sns.pairplot(sample_, hue=\"skin\")\n",
    "# sample"
   ]
  },
  {
   "cell_type": "code",
   "execution_count": 13,
   "metadata": {},
   "outputs": [
    {
     "data": {
      "text/plain": [
       "<seaborn.axisgrid.PairGrid at 0x1443933eb70>"
      ]
     },
     "execution_count": 13,
     "metadata": {},
     "output_type": "execute_result"
    },
    {
     "data": {
      "image/png": "[encoded data removed]",
      "text/plain": [
       "<Figure size 540x540 with 12 Axes>"
      ]
     },
     "metadata": {
      "needs_background": "light"
     },
     "output_type": "display_data"
    }
   ],
   "source": [
    "sns.pairplot(onlybgr, kind=\"reg\")"
   ]
  },
  {
   "cell_type": "code",
   "execution_count": 14,
   "metadata": {},
   "outputs": [
    {
     "data": {
      "text/plain": [
       "(194198, 50859)"
      ]
     },
     "execution_count": 14,
     "metadata": {},
     "output_type": "execute_result"
    }
   ],
   "source": [
    "# Lets see how many 0s and 1s\n",
    "(label == 0).skin.sum(),(label == 1).skin.sum()"
   ]
  },
  {
   "cell_type": "markdown",
   "metadata": {},
   "source": [
    "## SPLIT DATA INTO 5 CROSS - VALIDATION"
   ]
  },
  {
   "cell_type": "code",
   "execution_count": 15,
   "metadata": {},
   "outputs": [],
   "source": [
    "x = feature.values\n",
    "y = label.values"
   ]
  },
  {
   "cell_type": "code",
   "execution_count": 16,
   "metadata": {},
   "outputs": [],
   "source": [
    "# We will keep fix test and take 5 cross validation set\n",
    "# so we will have five different data set\n",
    "xtrain, xtest, ytrain, ytest = train_test_split(x, y, test_size=0.20, random_state=1)"
   ]
  },
  {
   "cell_type": "code",
   "execution_count": 17,
   "metadata": {},
   "outputs": [
    {
     "data": {
      "text/plain": [
       "(196045, 49012)"
      ]
     },
     "execution_count": 17,
     "metadata": {},
     "output_type": "execute_result"
    }
   ],
   "source": [
    "#Lets see the size of xtrain, xtest\n",
    "len(xtrain),len(xtest)"
   ]
  },
  {
   "cell_type": "code",
   "execution_count": 18,
   "metadata": {},
   "outputs": [
    {
     "data": {
      "text/plain": [
       "((196045, 3), (196045, 1), (196045, 4))"
      ]
     },
     "execution_count": 18,
     "metadata": {},
     "output_type": "execute_result"
    }
   ],
   "source": [
    "# 5 Fold Split\n",
    "# First merge xtrain and ytrain so that we can easily divide into 5 chunks\n",
    "\n",
    "data = np.concatenate([xtrain,ytrain],axis = 1)\n",
    "# Observe the shape of array\n",
    "xtrain.shape,ytrain.shape,data.shape"
   ]
  },
  {
   "cell_type": "code",
   "execution_count": 19,
   "metadata": {},
   "outputs": [],
   "source": [
    "# Divide our data to 5 chunks\n",
    "chunks = np.split(data,5)"
   ]
  },
  {
   "cell_type": "code",
   "execution_count": 20,
   "metadata": {},
   "outputs": [],
   "source": [
    "datadict = {'fold1':{'train':{'x':None,'y':None},'val':{'x':None,'y':None},'test':{'x':xtest,'y':ytest}},\n",
    "            'fold2':{'train':{'x':None,'y':None},'val':{'x':None,'y':None},'test':{'x':xtest,'y':ytest}},\n",
    "            'fold3':{'train':{'x':None,'y':None},'val':{'x':None,'y':None},'test':{'x':xtest,'y':ytest}}, \n",
    "            'fold4':{'train':{'x':None,'y':None},'val':{'x':None,'y':None},'test':{'x':xtest,'y':ytest}},\n",
    "            'fold5':{'train':{'x':None,'y':None},'val':{'x':None,'y':None},'test':{'x':xtest,'y':ytest}},}"
   ]
  },
  {
   "cell_type": "code",
   "execution_count": 21,
   "metadata": {},
   "outputs": [],
   "source": [
    "for i in range(5):\n",
    "    datadict['fold'+str(i+1)]['val']['x'] = chunks[i][:,0:3]\n",
    "    datadict['fold'+str(i+1)]['val']['y'] = chunks[i][:,3:4]\n",
    "    \n",
    "    idx = list(set(range(5))-set([i]))\n",
    "    X = np.concatenate(itemgetter(*idx)(chunks),0)\n",
    "    datadict['fold'+str(i+1)]['train']['x'] = X[:,0:3]\n",
    "    datadict['fold'+str(i+1)]['train']['y'] = X[:,3:4]\n",
    "    "
   ]
  },
  {
   "cell_type": "code",
   "execution_count": 22,
   "metadata": {},
   "outputs": [],
   "source": [
    "def writepickle(data, filename):\n",
    "    with open(filename, 'wb') as f:\n",
    "        pickle.dump(data, f)\n",
    "\n",
    "def readpickle(filename):\n",
    "    with open(filename, 'rb') as f:\n",
    "        data = pickle.load(f)\n",
    "    return data"
   ]
  },
  {
   "cell_type": "code",
   "execution_count": 23,
   "metadata": {},
   "outputs": [],
   "source": [
    "writepickle(datadict,'data.pkl')"
   ]
  },
  {
   "cell_type": "markdown",
   "metadata": {},
   "source": [
    "## Now You Can Read This Pickle File And Use In Your Project"
   ]
  },
  {
   "cell_type": "code",
   "execution_count": 24,
   "metadata": {},
   "outputs": [],
   "source": [
    "data = readpickle('data.pkl')"
   ]
  },
  {
   "cell_type": "markdown",
   "metadata": {},
   "source": [
    "## How to access data\n",
    "    Example : Access fold1 data"
   ]
  },
  {
   "cell_type": "code",
   "execution_count": 25,
   "metadata": {},
   "outputs": [],
   "source": [
    "fold1 = data['fold1']\n",
    "fold1_train = fold1['train']\n",
    "fold1_val = fold1['val']\n",
    "fold1_test = fold1['test']\n",
    "\n",
    "xtrain, ytrain = fold1_train['x'],fold1_train['y']\n",
    "xval, yval = fold1_val['x'], fold1_val['y']\n",
    "xtest, ytest = fold1_test['x'],fold1_test['y']"
   ]
  },
  {
   "cell_type": "code",
   "execution_count": 26,
   "metadata": {},
   "outputs": [
    {
     "data": {
      "text/plain": [
       "((156836, 3), (156836, 1))"
      ]
     },
     "execution_count": 26,
     "metadata": {},
     "output_type": "execute_result"
    }
   ],
   "source": [
    "xtrain.shape, ytrain.shape"
   ]
  },
  {
   "cell_type": "code",
   "execution_count": 27,
   "metadata": {},
   "outputs": [
    {
     "data": {
      "text/plain": [
       "((39209, 3), (39209, 1))"
      ]
     },
     "execution_count": 27,
     "metadata": {},
     "output_type": "execute_result"
    }
   ],
   "source": [
    "xval.shape, yval.shape"
   ]
  },
  {
   "cell_type": "code",
   "execution_count": 28,
   "metadata": {},
   "outputs": [
    {
     "data": {
      "text/plain": [
       "((49012, 3), (49012, 1))"
      ]
     },
     "execution_count": 28,
     "metadata": {},
     "output_type": "execute_result"
    }
   ],
   "source": [
    "xtest.shape,ytest.shape"
   ]
  },
  {
   "cell_type": "markdown",
   "metadata": {},
   "source": [
    "<h1 style=\"color:green\">!!!!!!!!!! NOTES !!!!!!!!!!</h1>\n",
    "\n",
    "    This walkthrough is just to make your life easier\n",
    "    If you want to use your own ways of doing data processing it is fine\n",
    "    You can continue your assignment right-away from below or setup \n",
    "    a project like assignment 1. You can use any library you want"
   ]
  },
  {
   "cell_type": "markdown",
   "metadata": {},
   "source": [
    "<h1 style=\"color:red\">!!!!!!!!!! WARNING !!!!!!!!!!</h1>\n",
    "\n",
    "    1. DO NOT SUBMIT .DOCX FILE\n",
    "    2. NAME YOUR FILE IN FOLLOWING MANNER net_id_homework_2.pdf\n",
    "    3. SUBMIT BOTH ASSIGNMENT(OPENED) AND YOUR DROPBOX\n",
    "    4. YOUR REPORT SHOULD CONTAIN LINK TO YOUR GITHUB \n",
    "    5. ADD COMMENTS TO INCREASE READIBILITY IN YOUR CODE"
   ]
  },
  {
   "cell_type": "markdown",
   "metadata": {},
   "source": [
    "### Now use above dataset to complete following work"
   ]
  },
  {
   "cell_type": "markdown",
   "metadata": {},
   "source": [
    "# Assignment 2\n",
    "    You can use any libraires you want, but choose python as your platform\n",
    "    \n",
    "    1. Implement Logistic Regression on this 5 fold data\n",
    "    2. Report Test Accuracy, Val Accuracy on each fold\n",
    "       Follow following format\n",
    "       ________________________\n",
    "       \n",
    "            |  ACCURACY   \n",
    "       FOLD | VAL | TEST  \n",
    "       ________________________\n",
    "            |     |\n",
    "       1    |  ?? |  ??\n",
    "       2    |  ?? |  ??\n",
    "       3    |  ?? |  ??\n",
    "       4    |  ?? |  ??\n",
    "       5    |  ?? |  ??\n",
    "       ________________________\n",
    "       AVG  |  ?? |  ??\n",
    "       \n",
    "    3. Report Visualization\n",
    "    \n",
    "    NOTE :  You must submit two things\n",
    "            First : A pdf report with following explanation\n",
    "                    - What tools you used and why?\n",
    "                    - Metrics as explained in (2)\n",
    "                    - Visualization/Graph\n",
    "                    - Conclude your experiment\n",
    "                    - Add a github repo as report\n",
    "\n",
    "            Second : A github repo\n",
    "    "
   ]
  },
  {
   "cell_type": "code",
   "execution_count": 29,
   "metadata": {},
   "outputs": [],
   "source": [
    "# all parameters not specified are set to their defaults\n",
    "logisticRegr = LogisticRegression()"
   ]
  },
  {
   "cell_type": "code",
   "execution_count": 30,
   "metadata": {},
   "outputs": [
    {
     "name": "stderr",
     "output_type": "stream",
     "text": [
      "C:\\Users\\David\\Anaconda3\\lib\\site-packages\\sklearn\\linear_model\\logistic.py:432: FutureWarning: Default solver will be changed to 'lbfgs' in 0.22. Specify a solver to silence this warning.\n",
      "  FutureWarning)\n",
      "C:\\Users\\David\\Anaconda3\\lib\\site-packages\\sklearn\\utils\\validation.py:724: DataConversionWarning: A column-vector y was passed when a 1d array was expected. Please change the shape of y to (n_samples, ), for example using ravel().\n",
      "  y = column_or_1d(y, warn=True)\n"
     ]
    },
    {
     "data": {
      "text/plain": [
       "LogisticRegression(C=1.0, class_weight=None, dual=False, fit_intercept=True,\n",
       "                   intercept_scaling=1, l1_ratio=None, max_iter=100,\n",
       "                   multi_class='warn', n_jobs=None, penalty='l2',\n",
       "                   random_state=None, solver='warn', tol=0.0001, verbose=0,\n",
       "                   warm_start=False)"
      ]
     },
     "execution_count": 30,
     "metadata": {},
     "output_type": "execute_result"
    }
   ],
   "source": [
    "logisticRegr.fit(xtrain, ytrain)"
   ]
  },
  {
   "cell_type": "code",
   "execution_count": 31,
   "metadata": {},
   "outputs": [
    {
     "data": {
      "text/plain": [
       "array([0.])"
      ]
     },
     "execution_count": 31,
     "metadata": {},
     "output_type": "execute_result"
    }
   ],
   "source": [
    "# Returns a NumPy Array\n",
    "# Predict for One Observation (image)\n",
    "logisticRegr.predict(xtest[0].reshape(1,-1))"
   ]
  },
  {
   "cell_type": "code",
   "execution_count": 32,
   "metadata": {},
   "outputs": [
    {
     "data": {
      "text/plain": [
       "array([0., 1., 0., 0., 0., 0., 0., 0., 1., 0.])"
      ]
     },
     "execution_count": 32,
     "metadata": {},
     "output_type": "execute_result"
    }
   ],
   "source": [
    "logisticRegr.predict(xtest[0:10])"
   ]
  },
  {
   "cell_type": "code",
   "execution_count": 33,
   "metadata": {},
   "outputs": [],
   "source": [
    "predictions = logisticRegr.predict(xtest)"
   ]
  },
  {
   "cell_type": "code",
   "execution_count": 34,
   "metadata": {},
   "outputs": [
    {
     "name": "stdout",
     "output_type": "stream",
     "text": [
      "0.9189178160450502\n"
     ]
    }
   ],
   "source": [
    "# Use score method to get accuracy of model\n",
    "score = logisticRegr.score(xtest, ytest)\n",
    "print(score)"
   ]
  },
  {
   "cell_type": "code",
   "execution_count": 35,
   "metadata": {},
   "outputs": [],
   "source": [
    "fold1_test_acc = score"
   ]
  },
  {
   "cell_type": "code",
   "execution_count": 36,
   "metadata": {},
   "outputs": [
    {
     "name": "stderr",
     "output_type": "stream",
     "text": [
      "C:\\Users\\David\\Anaconda3\\lib\\site-packages\\sklearn\\linear_model\\logistic.py:432: FutureWarning: Default solver will be changed to 'lbfgs' in 0.22. Specify a solver to silence this warning.\n",
      "  FutureWarning)\n",
      "C:\\Users\\David\\Anaconda3\\lib\\site-packages\\sklearn\\utils\\validation.py:724: DataConversionWarning: A column-vector y was passed when a 1d array was expected. Please change the shape of y to (n_samples, ), for example using ravel().\n",
      "  y = column_or_1d(y, warn=True)\n"
     ]
    },
    {
     "name": "stdout",
     "output_type": "stream",
     "text": [
      "0.9188974128784787\n"
     ]
    }
   ],
   "source": [
    "fold2 = data['fold2']\n",
    "fold2_train = fold2['train']\n",
    "fold2_val = fold2['val']\n",
    "fold2_test = fold2['test']\n",
    "\n",
    "xtrain, ytrain = fold2_train['x'],fold2_train['y']\n",
    "xval, yval = fold2_val['x'], fold2_val['y']\n",
    "xtest, ytest = fold2_test['x'],fold2_test['y']\n",
    "\n",
    "logisticRegr = LogisticRegression()\n",
    "\n",
    "logisticRegr.fit(xtrain, ytrain)\n",
    "\n",
    "logisticRegr.predict(xtest[0].reshape(1,-1))\n",
    "\n",
    "logisticRegr.predict(xtest[0:10])\n",
    "\n",
    "predictions = logisticRegr.predict(xtest)\n",
    "\n",
    "score = logisticRegr.score(xtest, ytest)\n",
    "print(score)\n",
    "\n",
    "fold2_test_acc = score"
   ]
  },
  {
   "cell_type": "code",
   "execution_count": 37,
   "metadata": {},
   "outputs": [
    {
     "name": "stderr",
     "output_type": "stream",
     "text": [
      "C:\\Users\\David\\Anaconda3\\lib\\site-packages\\sklearn\\linear_model\\logistic.py:432: FutureWarning: Default solver will be changed to 'lbfgs' in 0.22. Specify a solver to silence this warning.\n",
      "  FutureWarning)\n",
      "C:\\Users\\David\\Anaconda3\\lib\\site-packages\\sklearn\\utils\\validation.py:724: DataConversionWarning: A column-vector y was passed when a 1d array was expected. Please change the shape of y to (n_samples, ), for example using ravel().\n",
      "  y = column_or_1d(y, warn=True)\n"
     ]
    },
    {
     "name": "stdout",
     "output_type": "stream",
     "text": [
      "0.9187341875459071\n"
     ]
    }
   ],
   "source": [
    "fold3 = data['fold3']\n",
    "fold3_train = fold3['train']\n",
    "fold3_val = fold3['val']\n",
    "fold3_test = fold3['test']\n",
    "\n",
    "xtrain, ytrain = fold3_train['x'],fold3_train['y']\n",
    "xval, yval = fold3_val['x'], fold3_val['y']\n",
    "xtest, ytest = fold3_test['x'],fold3_test['y']\n",
    "\n",
    "logisticRegr = LogisticRegression()\n",
    "\n",
    "logisticRegr.fit(xtrain, ytrain)\n",
    "\n",
    "logisticRegr.predict(xtest[0].reshape(1,-1))\n",
    "\n",
    "logisticRegr.predict(xtest[0:10])\n",
    "\n",
    "predictions = logisticRegr.predict(xtest)\n",
    "\n",
    "score = logisticRegr.score(xtest, ytest)\n",
    "print(score)\n",
    "\n",
    "fold3_test_acc = score"
   ]
  },
  {
   "cell_type": "code",
   "execution_count": 38,
   "metadata": {},
   "outputs": [
    {
     "name": "stderr",
     "output_type": "stream",
     "text": [
      "C:\\Users\\David\\Anaconda3\\lib\\site-packages\\sklearn\\linear_model\\logistic.py:432: FutureWarning: Default solver will be changed to 'lbfgs' in 0.22. Specify a solver to silence this warning.\n",
      "  FutureWarning)\n",
      "C:\\Users\\David\\Anaconda3\\lib\\site-packages\\sklearn\\utils\\validation.py:724: DataConversionWarning: A column-vector y was passed when a 1d array was expected. Please change the shape of y to (n_samples, ), for example using ravel().\n",
      "  y = column_or_1d(y, warn=True)\n"
     ]
    },
    {
     "name": "stdout",
     "output_type": "stream",
     "text": [
      "0.9193462825430507\n"
     ]
    }
   ],
   "source": [
    "fold4 = data['fold4']\n",
    "fold4_train = fold4['train']\n",
    "fold4_val = fold4['val']\n",
    "fold4_test = fold4['test']\n",
    "\n",
    "xtrain, ytrain = fold4_train['x'],fold4_train['y']\n",
    "xval, yval = fold4_val['x'], fold4_val['y']\n",
    "xtest, ytest = fold4_test['x'],fold4_test['y']\n",
    "\n",
    "logisticRegr = LogisticRegression()\n",
    "\n",
    "logisticRegr.fit(xtrain, ytrain)\n",
    "\n",
    "logisticRegr.predict(xtest[0].reshape(1,-1))\n",
    "\n",
    "logisticRegr.predict(xtest[0:10])\n",
    "\n",
    "predictions = logisticRegr.predict(xtest)\n",
    "\n",
    "score = logisticRegr.score(xtest, ytest)\n",
    "print(score)\n",
    "\n",
    "fold4_test_acc = score"
   ]
  },
  {
   "cell_type": "code",
   "execution_count": 39,
   "metadata": {},
   "outputs": [
    {
     "name": "stderr",
     "output_type": "stream",
     "text": [
      "C:\\Users\\David\\Anaconda3\\lib\\site-packages\\sklearn\\linear_model\\logistic.py:432: FutureWarning: Default solver will be changed to 'lbfgs' in 0.22. Specify a solver to silence this warning.\n",
      "  FutureWarning)\n",
      "C:\\Users\\David\\Anaconda3\\lib\\site-packages\\sklearn\\utils\\validation.py:724: DataConversionWarning: A column-vector y was passed when a 1d array was expected. Please change the shape of y to (n_samples, ), for example using ravel().\n",
      "  y = column_or_1d(y, warn=True)\n"
     ]
    },
    {
     "name": "stdout",
     "output_type": "stream",
     "text": [
      "0.9189178160450502\n"
     ]
    }
   ],
   "source": [
    "fold5 = data['fold5']\n",
    "fold5_train = fold5['train']\n",
    "fold5_val = fold5['val']\n",
    "fold5_test = fold5['test']\n",
    "\n",
    "xtrain, ytrain = fold5_train['x'],fold5_train['y']\n",
    "xval, yval = fold5_val['x'], fold5_val['y']\n",
    "xtest, ytest = fold5_test['x'],fold5_test['y']\n",
    "\n",
    "logisticRegr = LogisticRegression()\n",
    "\n",
    "logisticRegr.fit(xtrain, ytrain)\n",
    "\n",
    "logisticRegr.predict(xtest[0].reshape(1,-1))\n",
    "\n",
    "logisticRegr.predict(xtest[0:10])\n",
    "\n",
    "predictions = logisticRegr.predict(xtest)\n",
    "\n",
    "score = logisticRegr.score(xtest, ytest)\n",
    "print(score)\n",
    "\n",
    "fold5_test_acc = score"
   ]
  },
  {
   "cell_type": "code",
   "execution_count": 40,
   "metadata": {},
   "outputs": [
    {
     "name": "stderr",
     "output_type": "stream",
     "text": [
      "C:\\Users\\David\\Anaconda3\\lib\\site-packages\\sklearn\\linear_model\\logistic.py:432: FutureWarning: Default solver will be changed to 'lbfgs' in 0.22. Specify a solver to silence this warning.\n",
      "  FutureWarning)\n",
      "C:\\Users\\David\\Anaconda3\\lib\\site-packages\\sklearn\\utils\\validation.py:724: DataConversionWarning: A column-vector y was passed when a 1d array was expected. Please change the shape of y to (n_samples, ), for example using ravel().\n",
      "  y = column_or_1d(y, warn=True)\n"
     ]
    },
    {
     "name": "stdout",
     "output_type": "stream",
     "text": [
      "0.9177229717666863\n"
     ]
    }
   ],
   "source": [
    "fold1 = data['fold2']\n",
    "fold1_train = fold1['train']\n",
    "fold1_val = fold1['val']\n",
    "fold1_test = fold1['test']\n",
    "\n",
    "xtrain, ytrain = fold1_train['x'],fold1_train['y']\n",
    "xval, yval = fold1_val['x'], fold1_val['y']\n",
    "xtest, ytest = fold1_test['x'],fold1_test['y']\n",
    "\n",
    "logisticRegr = LogisticRegression()\n",
    "\n",
    "logisticRegr.fit(xtrain, ytrain)\n",
    "\n",
    "logisticRegr.predict(xval[0].reshape(1,-1))\n",
    "\n",
    "logisticRegr.predict(xval[0:10])\n",
    "\n",
    "predictions = logisticRegr.predict(xtest)\n",
    "\n",
    "score = logisticRegr.score(xval, yval)\n",
    "print(score)\n",
    "\n",
    "fold1_val_acc = score"
   ]
  },
  {
   "cell_type": "code",
   "execution_count": 41,
   "metadata": {},
   "outputs": [
    {
     "name": "stderr",
     "output_type": "stream",
     "text": [
      "C:\\Users\\David\\Anaconda3\\lib\\site-packages\\sklearn\\linear_model\\logistic.py:432: FutureWarning: Default solver will be changed to 'lbfgs' in 0.22. Specify a solver to silence this warning.\n",
      "  FutureWarning)\n",
      "C:\\Users\\David\\Anaconda3\\lib\\site-packages\\sklearn\\utils\\validation.py:724: DataConversionWarning: A column-vector y was passed when a 1d array was expected. Please change the shape of y to (n_samples, ), for example using ravel().\n",
      "  y = column_or_1d(y, warn=True)\n"
     ]
    },
    {
     "name": "stdout",
     "output_type": "stream",
     "text": [
      "0.9177229717666863\n"
     ]
    }
   ],
   "source": [
    "fold2 = data['fold2']\n",
    "fold2_train = fold2['train']\n",
    "fold2_val = fold2['val']\n",
    "fold2_test = fold2['test']\n",
    "\n",
    "xtrain, ytrain = fold2_train['x'],fold2_train['y']\n",
    "xval, yval = fold2_val['x'], fold2_val['y']\n",
    "xtest, ytest = fold2_test['x'],fold2_test['y']\n",
    "\n",
    "logisticRegr = LogisticRegression()\n",
    "\n",
    "logisticRegr.fit(xtrain, ytrain)\n",
    "\n",
    "logisticRegr.predict(xval[0].reshape(1,-1))\n",
    "\n",
    "logisticRegr.predict(xval[0:10])\n",
    "\n",
    "predictions = logisticRegr.predict(xtest)\n",
    "\n",
    "score = logisticRegr.score(xval, yval)\n",
    "print(score)\n",
    "\n",
    "fold2_val_acc = score"
   ]
  },
  {
   "cell_type": "code",
   "execution_count": 42,
   "metadata": {},
   "outputs": [
    {
     "name": "stderr",
     "output_type": "stream",
     "text": [
      "C:\\Users\\David\\Anaconda3\\lib\\site-packages\\sklearn\\linear_model\\logistic.py:432: FutureWarning: Default solver will be changed to 'lbfgs' in 0.22. Specify a solver to silence this warning.\n",
      "  FutureWarning)\n",
      "C:\\Users\\David\\Anaconda3\\lib\\site-packages\\sklearn\\utils\\validation.py:724: DataConversionWarning: A column-vector y was passed when a 1d array was expected. Please change the shape of y to (n_samples, ), for example using ravel().\n",
      "  y = column_or_1d(y, warn=True)\n"
     ]
    },
    {
     "name": "stdout",
     "output_type": "stream",
     "text": [
      "0.9197123109490168\n"
     ]
    }
   ],
   "source": [
    "fold3 = data['fold3']\n",
    "fold3_train = fold3['train']\n",
    "fold3_val = fold3['val']\n",
    "fold3_test = fold3['test']\n",
    "\n",
    "xtrain, ytrain = fold3_train['x'],fold3_train['y']\n",
    "xval, yval = fold3_val['x'], fold3_val['y']\n",
    "xtest, ytest = fold3_test['x'],fold3_test['y']\n",
    "\n",
    "logisticRegr = LogisticRegression()\n",
    "\n",
    "logisticRegr.fit(xtrain, ytrain)\n",
    "\n",
    "\n",
    "logisticRegr.predict(xval[0].reshape(1,-1))\n",
    "\n",
    "logisticRegr.predict(xval[0:10])\n",
    "\n",
    "predictions = logisticRegr.predict(xtest)\n",
    "\n",
    "score = logisticRegr.score(xval, yval)\n",
    "fold3_val_acc = score\n",
    "print(fold3_val_acc)"
   ]
  },
  {
   "cell_type": "code",
   "execution_count": 43,
   "metadata": {},
   "outputs": [
    {
     "name": "stderr",
     "output_type": "stream",
     "text": [
      "C:\\Users\\David\\Anaconda3\\lib\\site-packages\\sklearn\\linear_model\\logistic.py:432: FutureWarning: Default solver will be changed to 'lbfgs' in 0.22. Specify a solver to silence this warning.\n",
      "  FutureWarning)\n",
      "C:\\Users\\David\\Anaconda3\\lib\\site-packages\\sklearn\\utils\\validation.py:724: DataConversionWarning: A column-vector y was passed when a 1d array was expected. Please change the shape of y to (n_samples, ), for example using ravel().\n",
      "  y = column_or_1d(y, warn=True)\n"
     ]
    },
    {
     "name": "stdout",
     "output_type": "stream",
     "text": [
      "0.9184370935244459\n"
     ]
    }
   ],
   "source": [
    "fold4 = data['fold4']\n",
    "fold4_train = fold4['train']\n",
    "fold4_val = fold4['val']\n",
    "fold4_test = fold4['test']\n",
    "\n",
    "xtrain, ytrain = fold4_train['x'],fold4_train['y']\n",
    "xval, yval = fold4_val['x'], fold4_val['y']\n",
    "xtest, ytest = fold4_test['x'],fold4_test['y']\n",
    "\n",
    "logisticRegr = LogisticRegression()\n",
    "\n",
    "logisticRegr.fit(xtrain, ytrain)\n",
    "\n",
    "logisticRegr.predict(xval[0].reshape(1,-1))\n",
    "\n",
    "logisticRegr.predict(xval[0:10])\n",
    "\n",
    "predictions = logisticRegr.predict(xtest)\n",
    "\n",
    "score = logisticRegr.score(xval, yval)\n",
    "fold4_val_acc = score\n",
    "print(fold4_val_acc)"
   ]
  },
  {
   "cell_type": "code",
   "execution_count": 44,
   "metadata": {},
   "outputs": [
    {
     "name": "stderr",
     "output_type": "stream",
     "text": [
      "C:\\Users\\David\\Anaconda3\\lib\\site-packages\\sklearn\\linear_model\\logistic.py:432: FutureWarning: Default solver will be changed to 'lbfgs' in 0.22. Specify a solver to silence this warning.\n",
      "  FutureWarning)\n",
      "C:\\Users\\David\\Anaconda3\\lib\\site-packages\\sklearn\\utils\\validation.py:724: DataConversionWarning: A column-vector y was passed when a 1d array was expected. Please change the shape of y to (n_samples, ), for example using ravel().\n",
      "  y = column_or_1d(y, warn=True)\n"
     ]
    },
    {
     "name": "stdout",
     "output_type": "stream",
     "text": [
      "0.9196357979035426\n"
     ]
    }
   ],
   "source": [
    "fold5 = data['fold5']\n",
    "fold5_train = fold5['train']\n",
    "fold5_val = fold5['val']\n",
    "fold5_test = fold5['test']\n",
    "\n",
    "xtrain, ytrain = fold5_train['x'],fold5_train['y']\n",
    "xval, yval = fold5_val['x'], fold5_val['y']\n",
    "xtest, ytest = fold5_test['x'],fold5_test['y']\n",
    "\n",
    "logisticRegr = LogisticRegression()\n",
    "\n",
    "logisticRegr.fit(xtrain, ytrain)\n",
    "\n",
    "logisticRegr.predict(xval[0].reshape(1,-1))\n",
    "\n",
    "logisticRegr.predict(xval[0:10])\n",
    "\n",
    "predictions = logisticRegr.predict(xtest)\n",
    "\n",
    "score = logisticRegr.score(xval, yval)\n",
    "print(score)\n",
    "\n",
    "fold5_val_acc = score"
   ]
  },
  {
   "cell_type": "code",
   "execution_count": 45,
   "metadata": {},
   "outputs": [
    {
     "name": "stdout",
     "output_type": "stream",
     "text": [
      "________________________\n",
      "\n",
      "     | ACCURACY\n",
      "FOLD | VAL | TEST\n",
      "________________________\n",
      "1    |91.77|91.89\n",
      "2    |91.77|91.89\n",
      "3    |91.97|91.87\n",
      "4    |91.84|91.93\n",
      "5    |91.96|91.89\n",
      "________________________\n",
      "AVG  | 91.77| 91.89\n"
     ]
    }
   ],
   "source": [
    "fold1_val_acc = fold1_val_acc * 100\n",
    "fold1_test_acc = fold1_test_acc * 100\n",
    "fold2_val_acc = fold2_val_acc * 100\n",
    "fold2_test_acc = fold2_test_acc * 100\n",
    "fold3_val_acc = fold3_val_acc * 100\n",
    "fold3_test_acc = fold3_test_acc * 100\n",
    "fold4_val_acc = fold4_val_acc * 100\n",
    "fold4_test_acc = fold4_test_acc * 100\n",
    "fold5_val_acc = fold5_val_acc * 100\n",
    "fold5_test_acc = fold5_test_acc * 100\n",
    "\n",
    "print(\"________________________\\n\")\n",
    "print(\"     | ACCURACY\")\n",
    "print(\"FOLD | VAL | TEST\")\n",
    "print(\"________________________\")\n",
    "print(\"1    |{0:5.2f}|{1:5.2f}\".format(fold1_val_acc,fold1_test_acc))\n",
    "print(\"2    |{0:5.2f}|{1:5.2f}\".format(fold2_val_acc,fold2_test_acc))\n",
    "print(\"3    |{0:5.2f}|{1:5.2f}\".format(fold3_val_acc,fold3_test_acc))\n",
    "print(\"4    |{0:5.2f}|{1:5.2f}\".format(fold4_val_acc,fold4_test_acc))\n",
    "print(\"5    |{0:5.2f}|{1:5.2f}\".format(fold5_val_acc,fold5_test_acc))\n",
    "print(\"________________________\")\n",
    "average_val = (fold1_val_acc + fold2_val_acc + fold3_val_acc + fold4_val_acc + fold5_val_acc)/5\n",
    "average_test = (fold1_test_acc + fold2_test_acc + fold3_test_acc + fold4_test_acc + fold5_test_acc)/5\n",
    "print(\"AVG  |{0:6.2f}|{1:6.2f}\".format(fold1_val_acc,fold1_test_acc))"
   ]
  },
  {
   "cell_type": "code",
   "execution_count": null,
   "metadata": {},
   "outputs": [],
   "source": []
  }
 ],
 "metadata": {
  "kernelspec": {
   "display_name": "Python 3",
   "language": "python",
   "name": "python3"
  },
  "language_info": {
   "codemirror_mode": {
    "name": "ipython",
    "version": 3
   },
   "file_extension": ".py",
   "mimetype": "text/x-python",
   "name": "python",
   "nbconvert_exporter": "python",
   "pygments_lexer": "ipython3",
   "version": "3.7.3"
  }
 },
 "nbformat": 4,
 "nbformat_minor": 2
}
